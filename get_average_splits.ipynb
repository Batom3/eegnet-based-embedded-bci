{
 "cells": [
  {
   "cell_type": "code",
   "execution_count": 1,
   "metadata": {},
   "outputs": [],
   "source": [
    "import numpy as np"
   ]
  },
  {
   "cell_type": "code",
   "execution_count": 20,
   "metadata": {},
   "outputs": [],
   "source": [
    "train_dr01_loss = np.zeros(500)\n",
    "train_dr01_acc = np.zeros(500)\n",
    "valid_dr01_loss = np.zeros(500)\n",
    "valid_dr01_acc = np.zeros(500)\n",
    "\n",
    "for alpha in range(5,6):\n",
    "    \n",
    "    #Names of directories to access\n",
    "    directory = f'dr_search/dr_0{alpha}/'\n",
    "    for split in range(0,5):\n",
    "\n",
    "        step_array = np.loadtxt(f'{directory}train_lr_loss[{alpha*0.1}]_dr[0.2]_split[{split}].csv')\n",
    "        train_dr01_loss = train_dr01_loss + step_array\n",
    "        step_array = np.loadtxt(f'{directory}train_lr[{alpha*0.1}]_dr[0.2]_split[{split}].csv')\n",
    "        train_dr01_acc = train_dr01_acc + step_array\n",
    "        step_array = np.loadtxt(f'{directory}valid_lr[{alpha*0.1}]_dr[0.2]_split[{split}].csv')\n",
    "        valid_dr01_acc = valid_dr01_acc + step_array\n",
    "        step_array = np.loadtxt(f'{directory}valid_lr_loss[{alpha*0.1}]_dr[0.2]_split[{split}].csv')\n",
    "        valid_dr01_loss = valid_dr01_loss + step_array\n",
    "    \n",
    "    train_dr01_loss = train_dr01_loss/5\n",
    "    train_dr01_acc = train_dr01_acc/5\n",
    "    valid_dr01_acc = valid_dr01_acc/5\n",
    "    valid_dr01_loss = valid_dr01_loss/5\n",
    "    np.savetxt(f'{directory}train_lr_loss[{alpha*0.1}]_dr[0.2]_avg.csv',train_dr01_loss)\n",
    "    np.savetxt(f'{directory}train_lr[{alpha*0.1}]_dr[0.2]_avg.csv',train_dr01_acc)\n",
    "    np.savetxt(f'{directory}valid_lr_loss[{alpha*0.1}]_dr[0.2]_avg.csv',valid_dr01_loss)\n",
    "    np.savetxt(f'{directory}valid_lr[{alpha*0.1}]_dr[0.2]_avg.csv',valid_dr01_acc)\n",
    "    "
   ]
  },
  {
   "cell_type": "code",
   "execution_count": null,
   "metadata": {},
   "outputs": [],
   "source": []
  }
 ],
 "metadata": {
  "kernelspec": {
   "display_name": "eegnet",
   "language": "python",
   "name": "eegnet"
  },
  "language_info": {
   "codemirror_mode": {
    "name": "ipython",
    "version": 3
   },
   "file_extension": ".py",
   "mimetype": "text/x-python",
   "name": "python",
   "nbconvert_exporter": "python",
   "pygments_lexer": "ipython3",
   "version": "3.6.9"
  }
 },
 "nbformat": 4,
 "nbformat_minor": 4
}
